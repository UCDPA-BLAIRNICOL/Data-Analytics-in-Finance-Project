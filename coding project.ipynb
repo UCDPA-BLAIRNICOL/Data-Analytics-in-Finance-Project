{
 "cells": [
  {
   "cell_type": "code",
   "execution_count": 3,
   "id": "77fce8e1",
   "metadata": {},
   "outputs": [],
   "source": [
    "import pandas as pd\n",
    "\n"
   ]
  },
  {
   "cell_type": "code",
   "execution_count": 4,
   "id": "43bd93cc",
   "metadata": {},
   "outputs": [],
   "source": [
    "import numpy as np\n"
   ]
  },
  {
   "cell_type": "code",
   "execution_count": 33,
   "id": "26ead5dc",
   "metadata": {},
   "outputs": [],
   "source": [
    "euro_stoxx_data = pd.read_csv('eursotoxx.csv')"
   ]
  },
  {
   "cell_type": "code",
   "execution_count": 29,
   "id": "2d92ebd1",
   "metadata": {},
   "outputs": [
    {
     "name": "stdout",
     "output_type": "stream",
     "text": [
      "<class 'pandas.core.frame.DataFrame'>\n",
      "RangeIndex: 36 entries, 0 to 35\n",
      "Data columns (total 2 columns):\n",
      " #   Column            Non-Null Count  Dtype  \n",
      "---  ------            --------------  -----  \n",
      " 0   Date              36 non-null     object \n",
      " 1   SX5E Close Price  36 non-null     float64\n",
      "dtypes: float64(1), object(1)\n",
      "memory usage: 704.0+ bytes\n",
      "None\n"
     ]
    }
   ],
   "source": [
    "print(euro_stoxx_data.info())"
   ]
  },
  {
   "cell_type": "code",
   "execution_count": 12,
   "id": "f2f21458",
   "metadata": {},
   "outputs": [
    {
     "name": "stdout",
     "output_type": "stream",
     "text": [
      "            SX5E Close Price\n",
      "Date                        \n",
      "31/08/2022           3517.25\n",
      "29/07/2022           3708.10\n",
      "30/06/2022           3454.86\n",
      "31/05/2022           3789.21\n",
      "29/04/2022           3802.86\n"
     ]
    }
   ],
   "source": [
    "print(euro_stoxx_data.head())"
   ]
  },
  {
   "cell_type": "code",
   "execution_count": 12,
   "id": "100c89c0",
   "metadata": {},
   "outputs": [],
   "source": [
    "import pandas as pd\n",
    "\n",
    "iboxx_data = pd.read_csv('iboxx.csv')"
   ]
  },
  {
   "cell_type": "code",
   "execution_count": 13,
   "id": "dfaf2b02",
   "metadata": {},
   "outputs": [
    {
     "name": "stdout",
     "output_type": "stream",
     "text": [
      "         Date  IBOXX Close Price data\n",
      "0  31/08/2022                212.1833\n",
      "1  29/07/2022                221.5675\n",
      "2  30/06/2022                211.5370\n",
      "3  31/05/2022                219.3781\n",
      "4  29/04/2022                222.2147\n"
     ]
    }
   ],
   "source": [
    "print(iboxx_data.head())"
   ]
  },
  {
   "cell_type": "code",
   "execution_count": 34,
   "id": "89134dc6",
   "metadata": {},
   "outputs": [
    {
     "name": "stdout",
     "output_type": "stream",
     "text": [
      "<class 'pandas.core.frame.DataFrame'>\n",
      "RangeIndex: 36 entries, 0 to 35\n",
      "Data columns (total 2 columns):\n",
      " #   Column                  Non-Null Count  Dtype  \n",
      "---  ------                  --------------  -----  \n",
      " 0   Date                    36 non-null     object \n",
      " 1   IBOXX Close Price data  36 non-null     float64\n",
      "dtypes: float64(1), object(1)\n",
      "memory usage: 704.0+ bytes\n",
      "None\n"
     ]
    }
   ],
   "source": [
    "print(iboxx_data.info())"
   ]
  },
  {
   "cell_type": "code",
   "execution_count": 29,
   "id": "e0fa5e86",
   "metadata": {},
   "outputs": [],
   "source": [
    "euro_stoxx_returns = euro_stoxx_data['SX5E Close Price'].pct_change()"
   ]
  },
  {
   "cell_type": "code",
   "execution_count": 26,
   "id": "c9cf3d55",
   "metadata": {},
   "outputs": [
    {
     "name": "stdout",
     "output_type": "stream",
     "text": [
      "0         NaN\n",
      "1    0.054261\n",
      "2   -0.068294\n",
      "3    0.096777\n",
      "4    0.003602\n",
      "Name: SX5E Close Price, dtype: float64\n"
     ]
    },
    {
     "data": {
      "text/plain": [
       "1"
      ]
     },
     "execution_count": 26,
     "metadata": {},
     "output_type": "execute_result"
    }
   ],
   "source": [
    "print(euro_stoxx_returns.head())\n",
    "\n",
    "df = euro_stoxx_returns\n",
    "df.isnull().values.sum()"
   ]
  },
  {
   "cell_type": "code",
   "execution_count": 14,
   "id": "5b3b1f43",
   "metadata": {},
   "outputs": [],
   "source": [
    "iboxx_returns = iboxx_data['IBOXX Close Price data'].pct_change()"
   ]
  },
  {
   "cell_type": "code",
   "execution_count": 25,
   "id": "ca96067d",
   "metadata": {},
   "outputs": [
    {
     "name": "stdout",
     "output_type": "stream",
     "text": [
      "0         NaN\n",
      "1    0.044227\n",
      "2   -0.045271\n",
      "3    0.037067\n",
      "4    0.012930\n",
      "Name: IBOXX Close Price data, dtype: float64\n"
     ]
    },
    {
     "data": {
      "text/plain": [
       "1"
      ]
     },
     "execution_count": 25,
     "metadata": {},
     "output_type": "execute_result"
    }
   ],
   "source": [
    "print(iboxx_returns.head())\n",
    "df2 = iboxx_returns\n",
    "df2.isnull().values.sum()\n"
   ]
  },
  {
   "cell_type": "code",
   "execution_count": 36,
   "id": "3948bb35",
   "metadata": {},
   "outputs": [],
   "source": [
    "Portfolio_1 = [1,0]\n",
    "Portfolio_2 = [0.9,0.1]\n",
    "Portfolio_3 = [0.8,0.2]\n",
    "Portfolio_4 = [0.7,0.3]\n",
    "Portfolio_5 = [0.6,0.4]\n",
    "Portfolio_6 = [0.5,0.5]\n",
    "Portfolio_7 = [0.4,0.6]\n",
    "Portfolio_8 = [0.3,0.7]\n",
    "Portfolio_9 = [0.2,0.8]\n",
    "Portfolio_10 = [0.1,0.9]\n",
    "Portfolio_11 = [0,1]\n",
    "\n"
   ]
  },
  {
   "cell_type": "code",
   "execution_count": 47,
   "id": "81fb4b6d",
   "metadata": {},
   "outputs": [
    {
     "name": "stdout",
     "output_type": "stream",
     "text": [
      "           0         1          0         1\n",
      "0 2019-09-30  0.366788 2019-09-30  0.323582\n",
      "1 2019-10-31  0.532318 2019-10-31  0.608065\n",
      "2 2019-11-30  0.878220 2019-11-30  0.058923\n",
      "3 2019-12-31  0.097740 2019-12-31  0.810323\n",
      "4 2020-01-31  0.728676 2020-01-31  0.427991\n"
     ]
    }
   ],
   "source": [
    "import pandas as pd\n",
    "import numpy as np\n",
    "\n",
    "dates = pd.date_range(\"2019-09-30\",\"2022-07-29\",freq=\"1M\")\n",
    "df1 = pd.DataFrame([(dates[idx],euro_stoxx_returns) for idx,euro_stoxx_returns in enumerate(np.random.random(len(dates)))])\n",
    "df2 = pd.DataFrame([(dates[idx],iboxx_returns) for idx,iboxx_returns in enumerate(np.random.random(len(dates)))])\n",
    "Portfolios = pd.concat([df1,df2],axis=1)\n",
    "\n",
    "print(Portfolios.head())"
   ]
  },
  {
   "cell_type": "code",
   "execution_count": null,
   "id": "c27e67b5",
   "metadata": {},
   "outputs": [],
   "source": []
  }
 ],
 "metadata": {
  "kernelspec": {
   "display_name": "Python 3 (ipykernel)",
   "language": "python",
   "name": "python3"
  },
  "language_info": {
   "codemirror_mode": {
    "name": "ipython",
    "version": 3
   },
   "file_extension": ".py",
   "mimetype": "text/x-python",
   "name": "python",
   "nbconvert_exporter": "python",
   "pygments_lexer": "ipython3",
   "version": "3.9.12"
  }
 },
 "nbformat": 4,
 "nbformat_minor": 5
}
