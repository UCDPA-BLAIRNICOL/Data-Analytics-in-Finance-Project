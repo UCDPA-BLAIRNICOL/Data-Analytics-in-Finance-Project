{
 "cells": [
  {
   "cell_type": "code",
   "execution_count": 65,
   "id": "26ead5dc",
   "metadata": {},
   "outputs": [],
   "source": [
    "import pandas as pd\n",
    "import numpy as np\n",
    "import matplotlib.pyplot as plt\n",
    "from datetime import datetime\n"
   ]
  },
  {
   "cell_type": "code",
   "execution_count": 96,
   "id": "1c7811c2",
   "metadata": {},
   "outputs": [],
   "source": [
    "euro_stoxx_data = pd.read_csv(('eursotoxx.csv'),parse_dates=['Date'], index_col='Date')"
   ]
  },
  {
   "cell_type": "code",
   "execution_count": 76,
   "id": "2d92ebd1",
   "metadata": {},
   "outputs": [
    {
     "name": "stdout",
     "output_type": "stream",
     "text": [
      "            SX5E Close Price\n",
      "Date                        \n",
      "2022-08-31           3517.25\n",
      "2022-07-29           3708.10\n",
      "2022-06-30           3454.86\n",
      "2022-05-31           3789.21\n",
      "2022-04-29           3802.86\n"
     ]
    }
   ],
   "source": [
    "print(euro_stoxx_data.head())"
   ]
  },
  {
   "cell_type": "code",
   "execution_count": 98,
   "id": "100c89c0",
   "metadata": {},
   "outputs": [],
   "source": [
    "iboxx_data = pd.read_csv(('iboxx_data.csv'),parse_dates=['Date'], index_col='Date')"
   ]
  },
  {
   "cell_type": "code",
   "execution_count": 90,
   "id": "dfaf2b02",
   "metadata": {},
   "outputs": [
    {
     "name": "stdout",
     "output_type": "stream",
     "text": [
      "            IBOXX Close Price data\n",
      "Date                              \n",
      "2022-08-31                212.1833\n",
      "2022-07-29                221.5675\n",
      "2022-06-30                211.5370\n",
      "2022-05-31                219.3781\n",
      "2022-04-29                222.2147\n"
     ]
    }
   ],
   "source": [
    "print(iboxx_data.head())"
   ]
  },
  {
   "cell_type": "code",
   "execution_count": 91,
   "id": "e0fa5e86",
   "metadata": {},
   "outputs": [],
   "source": [
    "euro_stoxx_returns = euro_stoxx_data['SX5E Close Price'].pct_change()"
   ]
  },
  {
   "cell_type": "code",
   "execution_count": 92,
   "id": "c9cf3d55",
   "metadata": {},
   "outputs": [
    {
     "name": "stdout",
     "output_type": "stream",
     "text": [
      "Date\n",
      "2022-08-31         NaN\n",
      "2022-07-29    0.054261\n",
      "2022-06-30   -0.068294\n",
      "2022-05-31    0.096777\n",
      "2022-04-29    0.003602\n",
      "Name: SX5E Close Price, dtype: float64\n"
     ]
    },
    {
     "data": {
      "text/plain": [
       "1"
      ]
     },
     "execution_count": 92,
     "metadata": {},
     "output_type": "execute_result"
    }
   ],
   "source": [
    "print(euro_stoxx_returns.head())\n",
    "\n",
    "df = euro_stoxx_returns\n",
    "df.isnull().values.sum()"
   ]
  },
  {
   "cell_type": "code",
   "execution_count": 93,
   "id": "5b3b1f43",
   "metadata": {},
   "outputs": [],
   "source": [
    "iboxx_returns = iboxx_data['IBOXX Close Price data'].pct_change()"
   ]
  },
  {
   "cell_type": "code",
   "execution_count": 94,
   "id": "ca96067d",
   "metadata": {},
   "outputs": [
    {
     "name": "stdout",
     "output_type": "stream",
     "text": [
      "Date\n",
      "2022-08-31         NaN\n",
      "2022-07-29    0.044227\n",
      "2022-06-30   -0.045271\n",
      "2022-05-31    0.037067\n",
      "2022-04-29    0.012930\n",
      "Name: IBOXX Close Price data, dtype: float64\n"
     ]
    },
    {
     "data": {
      "text/plain": [
       "1"
      ]
     },
     "execution_count": 94,
     "metadata": {},
     "output_type": "execute_result"
    }
   ],
   "source": [
    "print(iboxx_returns.head())\n",
    "df2 = iboxx_returns\n",
    "df2.isnull().values.sum()\n"
   ]
  },
  {
   "cell_type": "code",
   "execution_count": 36,
   "id": "3948bb35",
   "metadata": {},
   "outputs": [],
   "source": [
    "Portfolio_1 = [1,0]\n",
    "Portfolio_2 = [0.9,0.1]\n",
    "Portfolio_3 = [0.8,0.2]\n",
    "Portfolio_4 = [0.7,0.3]\n",
    "Portfolio_5 = [0.6,0.4]\n",
    "Portfolio_6 = [0.5,0.5]\n",
    "Portfolio_7 = [0.4,0.6]\n",
    "Portfolio_8 = [0.3,0.7]\n",
    "Portfolio_9 = [0.2,0.8]\n",
    "Portfolio_10 = [0.1,0.9]\n",
    "Portfolio_11 = [0,1]\n",
    "\n"
   ]
  },
  {
   "cell_type": "code",
   "execution_count": 103,
   "id": "81fb4b6d",
   "metadata": {},
   "outputs": [
    {
     "name": "stdout",
     "output_type": "stream",
     "text": [
      "                   1         1\n",
      "0                             \n",
      "2019-09-30  0.372452  0.835302\n",
      "2019-10-31  0.092659  0.632212\n",
      "2019-11-30  0.219374  0.053500\n",
      "2019-12-31  0.259181  0.306380\n",
      "2020-01-31  0.713291  0.683416\n"
     ]
    }
   ],
   "source": [
    "import pandas as pd\n",
    "import numpy as np\n",
    "\n",
    "dates = pd.date_range(\"2019-09-30\",\"2022-07-29\",freq=\"1M\")\n",
    "df1 = pd.DataFrame([(dates[idx],euro_stoxx_returns) for idx,euro_stoxx_returns in enumerate(np.random.random(len(dates)))]).set_index(0)\n",
    "df2 = pd.DataFrame([(dates[idx],iboxx_returns) for idx,iboxx_returns in enumerate(np.random.random(len(dates)))]).set_index(0)\n",
    "Portfolios = pd.concat([df1,df2],axis=1)\n",
    "\n",
    "print(Portfolios.head())"
   ]
  },
  {
   "cell_type": "code",
   "execution_count": 106,
   "id": "c27e67b5",
   "metadata": {},
   "outputs": [
    {
     "name": "stdout",
     "output_type": "stream",
     "text": [
      "            EuroStoxx     IBoxx\n",
      "0                              \n",
      "2019-09-30   0.372452  0.835302\n",
      "2019-10-31   0.092659  0.632212\n",
      "2019-11-30   0.219374  0.053500\n",
      "2019-12-31   0.259181  0.306380\n",
      "2020-01-31   0.713291  0.683416\n"
     ]
    }
   ],
   "source": [
    "Portfolios.columns=[\"EuroStoxx\",\"IBoxx\"]\n",
    "print(Portfolios.head())"
   ]
  },
  {
   "cell_type": "code",
   "execution_count": 118,
   "id": "1a982f98",
   "metadata": {},
   "outputs": [
    {
     "name": "stdout",
     "output_type": "stream",
     "text": [
      "EuroStoxx    0.468986\n",
      "IBoxx        0.583612\n",
      "dtype: float64\n"
     ]
    }
   ],
   "source": [
    "Portfolios_mean_returns = Portfolios.mean(axis=0)\n",
    "print(Portfolios_mean_returns.head())"
   ]
  },
  {
   "cell_type": "code",
   "execution_count": 144,
   "id": "c26fb0a8",
   "metadata": {},
   "outputs": [
    {
     "name": "stdout",
     "output_type": "stream",
     "text": [
      "EuroStoxx    0.279085\n",
      "IBoxx        0.282722\n",
      "dtype: float64\n"
     ]
    }
   ],
   "source": [
    "Portfolios_std_devs = Portfolios.std()\n",
    "print(Portfolios_std_devs.head())"
   ]
  },
  {
   "cell_type": "code",
   "execution_count": 162,
   "id": "502e1459",
   "metadata": {},
   "outputs": [
    {
     "name": "stdout",
     "output_type": "stream",
     "text": [
      "          0\n",
      "0  0.480449\n",
      "1  0.491911\n",
      "2  0.503374\n",
      "3  0.514836\n",
      "4  0.526299\n",
      "5  0.537762\n",
      "6  0.549224\n",
      "7  0.560687\n",
      "8  0.572149\n",
      "9  0.583612\n"
     ]
    }
   ],
   "source": [
    "\n",
    "Portfolios_mean_retruns = pd.DataFrame([0.468986,0.583612])\n",
    "\n",
    "weights=pd.DataFrame([[0.9,0.1],[0.8,0.2],[0.7,0.3],[0.6,0.4],[0.5,0.5],[0.4,0.6],[0.3,0.7],[0.2,0.8],[0.1,0.9],[0,1]])\n",
    "final= weights.dot(Portfolios_mean_retruns)\n",
    "print(final)"
   ]
  },
  {
   "cell_type": "code",
   "execution_count": 163,
   "id": "e430bf81",
   "metadata": {},
   "outputs": [
    {
     "name": "stdout",
     "output_type": "stream",
     "text": [
      "          0\n",
      "0  0.279449\n",
      "1  0.279812\n",
      "2  0.280176\n",
      "3  0.280540\n",
      "4  0.280903\n",
      "5  0.281267\n",
      "6  0.281631\n",
      "7  0.281995\n",
      "8  0.282358\n",
      "9  0.282722\n"
     ]
    }
   ],
   "source": [
    "Portfolios_std_devs = pd.DataFrame([0.279085,0.282722])\n",
    "weights=pd.DataFrame([[0.9,0.1],[0.8,0.2],[0.7,0.3],[0.6,0.4],[0.5,0.5],[0.4,0.6],[0.3,0.7],[0.2,0.8],[0.1,0.9],[0,1]])\n",
    "final2= weights.dot(Portfolios_std_devs)\n",
    "print(final2)"
   ]
  },
  {
   "cell_type": "code",
   "execution_count": null,
   "id": "19ede65e",
   "metadata": {},
   "outputs": [],
   "source": []
  }
 ],
 "metadata": {
  "kernelspec": {
   "display_name": "Python 3 (ipykernel)",
   "language": "python",
   "name": "python3"
  },
  "language_info": {
   "codemirror_mode": {
    "name": "ipython",
    "version": 3
   },
   "file_extension": ".py",
   "mimetype": "text/x-python",
   "name": "python",
   "nbconvert_exporter": "python",
   "pygments_lexer": "ipython3",
   "version": "3.9.12"
  }
 },
 "nbformat": 4,
 "nbformat_minor": 5
}
