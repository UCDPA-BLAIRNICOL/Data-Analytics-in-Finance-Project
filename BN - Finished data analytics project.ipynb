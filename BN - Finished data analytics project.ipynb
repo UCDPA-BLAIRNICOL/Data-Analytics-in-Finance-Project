{
 "cells": [
  {
   "cell_type": "code",
   "execution_count": 539,
   "id": "26ead5dc",
   "metadata": {},
   "outputs": [],
   "source": [
    "import pandas as pd\n",
    "import numpy as np\n",
    "import matplotlib.pyplot as plt\n",
    "from datetime import datetime\n"
   ]
  },
  {
   "cell_type": "code",
   "execution_count": 540,
   "id": "f1be3e9c",
   "metadata": {},
   "outputs": [],
   "source": [
    "# Import the relevant packages for this project.\n",
    "# Follow this with importing and checking the relevant data."
   ]
  },
  {
   "cell_type": "code",
   "execution_count": 541,
   "id": "de2f0440",
   "metadata": {},
   "outputs": [],
   "source": [
    "euro_stoxx_data = pd.read_csv(('eursotoxx.csv'),parse_dates=['Date'], index_col='Date')"
   ]
  },
  {
   "cell_type": "code",
   "execution_count": 542,
   "id": "2d92ebd1",
   "metadata": {},
   "outputs": [
    {
     "name": "stdout",
     "output_type": "stream",
     "text": [
      "            SX5E Close Price\n",
      "Date                        \n",
      "2022-08-31           3517.25\n",
      "2022-07-29           3708.10\n",
      "2022-06-30           3454.86\n",
      "2022-05-31           3789.21\n",
      "2022-04-29           3802.86\n"
     ]
    }
   ],
   "source": [
    "print(euro_stoxx_data.head())"
   ]
  },
  {
   "cell_type": "code",
   "execution_count": 543,
   "id": "100c89c0",
   "metadata": {},
   "outputs": [],
   "source": [
    "iboxx_data = pd.read_csv(('iboxx_data.csv'),parse_dates=['Date'], index_col='Date')"
   ]
  },
  {
   "cell_type": "code",
   "execution_count": 544,
   "id": "dfaf2b02",
   "metadata": {},
   "outputs": [
    {
     "name": "stdout",
     "output_type": "stream",
     "text": [
      "            IBOXX Close Price data  Unnamed: 2  Unnamed: 3  Unnamed: 4  \\\n",
      "Date                                                                     \n",
      "2022-08-31                212.1833         NaN         NaN         NaN   \n",
      "2022-07-29                221.5675         NaN         NaN         NaN   \n",
      "2022-06-30                211.5370         NaN         NaN         NaN   \n",
      "2022-05-31                219.3781         NaN         NaN         NaN   \n",
      "2022-04-29                222.2147         NaN         NaN         NaN   \n",
      "\n",
      "            Unnamed: 5  \n",
      "Date                    \n",
      "2022-08-31         NaN  \n",
      "2022-07-29         NaN  \n",
      "2022-06-30         NaN  \n",
      "2022-05-31         NaN  \n",
      "2022-04-29         NaN  \n"
     ]
    }
   ],
   "source": [
    "print(iboxx_data.head())"
   ]
  },
  {
   "cell_type": "code",
   "execution_count": 545,
   "id": "9356f7e9",
   "metadata": {},
   "outputs": [
    {
     "data": {
      "text/html": [
       "<div>\n",
       "<style scoped>\n",
       "    .dataframe tbody tr th:only-of-type {\n",
       "        vertical-align: middle;\n",
       "    }\n",
       "\n",
       "    .dataframe tbody tr th {\n",
       "        vertical-align: top;\n",
       "    }\n",
       "\n",
       "    .dataframe thead th {\n",
       "        text-align: right;\n",
       "    }\n",
       "</style>\n",
       "<table border=\"1\" class=\"dataframe\">\n",
       "  <thead>\n",
       "    <tr style=\"text-align: right;\">\n",
       "      <th></th>\n",
       "      <th>IBOXX Close Price data</th>\n",
       "    </tr>\n",
       "    <tr>\n",
       "      <th>Date</th>\n",
       "      <th></th>\n",
       "    </tr>\n",
       "  </thead>\n",
       "  <tbody>\n",
       "    <tr>\n",
       "      <th>2022-08-31</th>\n",
       "      <td>212.1833</td>\n",
       "    </tr>\n",
       "    <tr>\n",
       "      <th>2022-07-29</th>\n",
       "      <td>221.5675</td>\n",
       "    </tr>\n",
       "    <tr>\n",
       "      <th>2022-06-30</th>\n",
       "      <td>211.5370</td>\n",
       "    </tr>\n",
       "    <tr>\n",
       "      <th>2022-05-31</th>\n",
       "      <td>219.3781</td>\n",
       "    </tr>\n",
       "    <tr>\n",
       "      <th>2022-04-29</th>\n",
       "      <td>222.2147</td>\n",
       "    </tr>\n",
       "    <tr>\n",
       "      <th>2022-03-31</th>\n",
       "      <td>228.5922</td>\n",
       "    </tr>\n",
       "    <tr>\n",
       "      <th>2022-02-28</th>\n",
       "      <td>231.7130</td>\n",
       "    </tr>\n",
       "    <tr>\n",
       "      <th>2022-01-31</th>\n",
       "      <td>238.2356</td>\n",
       "    </tr>\n",
       "    <tr>\n",
       "      <th>2021-12-31</th>\n",
       "      <td>241.5313</td>\n",
       "    </tr>\n",
       "    <tr>\n",
       "      <th>2021-11-30</th>\n",
       "      <td>241.7945</td>\n",
       "    </tr>\n",
       "    <tr>\n",
       "      <th>2021-10-29</th>\n",
       "      <td>241.4118</td>\n",
       "    </tr>\n",
       "    <tr>\n",
       "      <th>2021-09-30</th>\n",
       "      <td>243.1801</td>\n",
       "    </tr>\n",
       "    <tr>\n",
       "      <th>2021-08-31</th>\n",
       "      <td>244.8417</td>\n",
       "    </tr>\n",
       "    <tr>\n",
       "      <th>2021-07-30</th>\n",
       "      <td>245.8226</td>\n",
       "    </tr>\n",
       "    <tr>\n",
       "      <th>2021-06-30</th>\n",
       "      <td>242.9864</td>\n",
       "    </tr>\n",
       "    <tr>\n",
       "      <th>2021-05-31</th>\n",
       "      <td>241.9413</td>\n",
       "    </tr>\n",
       "    <tr>\n",
       "      <th>2021-04-30</th>\n",
       "      <td>242.3518</td>\n",
       "    </tr>\n",
       "    <tr>\n",
       "      <th>2021-03-31</th>\n",
       "      <td>242.3094</td>\n",
       "    </tr>\n",
       "    <tr>\n",
       "      <th>2021-02-26</th>\n",
       "      <td>241.8860</td>\n",
       "    </tr>\n",
       "    <tr>\n",
       "      <th>2021-01-29</th>\n",
       "      <td>243.7902</td>\n",
       "    </tr>\n",
       "    <tr>\n",
       "      <th>2020-12-31</th>\n",
       "      <td>244.1617</td>\n",
       "    </tr>\n",
       "    <tr>\n",
       "      <th>2020-11-30</th>\n",
       "      <td>243.7860</td>\n",
       "    </tr>\n",
       "    <tr>\n",
       "      <th>2020-10-30</th>\n",
       "      <td>241.3222</td>\n",
       "    </tr>\n",
       "    <tr>\n",
       "      <th>2020-09-30</th>\n",
       "      <td>239.4300</td>\n",
       "    </tr>\n",
       "    <tr>\n",
       "      <th>2020-08-31</th>\n",
       "      <td>238.6643</td>\n",
       "    </tr>\n",
       "    <tr>\n",
       "      <th>2020-07-31</th>\n",
       "      <td>238.2908</td>\n",
       "    </tr>\n",
       "    <tr>\n",
       "      <th>2020-06-30</th>\n",
       "      <td>234.7747</td>\n",
       "    </tr>\n",
       "    <tr>\n",
       "      <th>2020-05-29</th>\n",
       "      <td>231.6964</td>\n",
       "    </tr>\n",
       "    <tr>\n",
       "      <th>2020-04-30</th>\n",
       "      <td>231.2503</td>\n",
       "    </tr>\n",
       "    <tr>\n",
       "      <th>2020-03-31</th>\n",
       "      <td>222.9669</td>\n",
       "    </tr>\n",
       "    <tr>\n",
       "      <th>2020-02-28</th>\n",
       "      <td>239.5398</td>\n",
       "    </tr>\n",
       "    <tr>\n",
       "      <th>2020-01-31</th>\n",
       "      <td>240.4748</td>\n",
       "    </tr>\n",
       "    <tr>\n",
       "      <th>2019-12-31</th>\n",
       "      <td>237.6711</td>\n",
       "    </tr>\n",
       "    <tr>\n",
       "      <th>2019-11-29</th>\n",
       "      <td>237.8105</td>\n",
       "    </tr>\n",
       "    <tr>\n",
       "      <th>2019-10-31</th>\n",
       "      <td>238.4384</td>\n",
       "    </tr>\n",
       "    <tr>\n",
       "      <th>2019-09-30</th>\n",
       "      <td>238.8782</td>\n",
       "    </tr>\n",
       "  </tbody>\n",
       "</table>\n",
       "</div>"
      ],
      "text/plain": [
       "            IBOXX Close Price data\n",
       "Date                              \n",
       "2022-08-31                212.1833\n",
       "2022-07-29                221.5675\n",
       "2022-06-30                211.5370\n",
       "2022-05-31                219.3781\n",
       "2022-04-29                222.2147\n",
       "2022-03-31                228.5922\n",
       "2022-02-28                231.7130\n",
       "2022-01-31                238.2356\n",
       "2021-12-31                241.5313\n",
       "2021-11-30                241.7945\n",
       "2021-10-29                241.4118\n",
       "2021-09-30                243.1801\n",
       "2021-08-31                244.8417\n",
       "2021-07-30                245.8226\n",
       "2021-06-30                242.9864\n",
       "2021-05-31                241.9413\n",
       "2021-04-30                242.3518\n",
       "2021-03-31                242.3094\n",
       "2021-02-26                241.8860\n",
       "2021-01-29                243.7902\n",
       "2020-12-31                244.1617\n",
       "2020-11-30                243.7860\n",
       "2020-10-30                241.3222\n",
       "2020-09-30                239.4300\n",
       "2020-08-31                238.6643\n",
       "2020-07-31                238.2908\n",
       "2020-06-30                234.7747\n",
       "2020-05-29                231.6964\n",
       "2020-04-30                231.2503\n",
       "2020-03-31                222.9669\n",
       "2020-02-28                239.5398\n",
       "2020-01-31                240.4748\n",
       "2019-12-31                237.6711\n",
       "2019-11-29                237.8105\n",
       "2019-10-31                238.4384\n",
       "2019-09-30                238.8782"
      ]
     },
     "execution_count": 545,
     "metadata": {},
     "output_type": "execute_result"
    }
   ],
   "source": [
    "iboxx_data.drop(['Unnamed: 2','Unnamed: 3','Unnamed: 4','Unnamed: 5'],axis=1)"
   ]
  },
  {
   "cell_type": "code",
   "execution_count": 546,
   "id": "e0fa5e86",
   "metadata": {},
   "outputs": [],
   "source": [
    "euro_stoxx_returns = euro_stoxx_data['SX5E Close Price'].pct_change()"
   ]
  },
  {
   "cell_type": "code",
   "execution_count": 547,
   "id": "c9cf3d55",
   "metadata": {},
   "outputs": [
    {
     "name": "stdout",
     "output_type": "stream",
     "text": [
      "Date\n",
      "2022-08-31         NaN\n",
      "2022-07-29    0.054261\n",
      "2022-06-30   -0.068294\n",
      "2022-05-31    0.096777\n",
      "2022-04-29    0.003602\n",
      "Name: SX5E Close Price, dtype: float64\n"
     ]
    },
    {
     "data": {
      "text/plain": [
       "1"
      ]
     },
     "execution_count": 547,
     "metadata": {},
     "output_type": "execute_result"
    }
   ],
   "source": [
    "print(euro_stoxx_returns.head())\n",
    "\n",
    "df = euro_stoxx_returns\n",
    "df.isnull().values.sum()"
   ]
  },
  {
   "cell_type": "code",
   "execution_count": 548,
   "id": "5b3b1f43",
   "metadata": {},
   "outputs": [],
   "source": [
    "iboxx_returns = iboxx_data['IBOXX Close Price data'].pct_change()"
   ]
  },
  {
   "cell_type": "code",
   "execution_count": 549,
   "id": "ca96067d",
   "metadata": {},
   "outputs": [
    {
     "name": "stdout",
     "output_type": "stream",
     "text": [
      "Date\n",
      "2022-08-31         NaN\n",
      "2022-07-29    0.044227\n",
      "2022-06-30   -0.045271\n",
      "2022-05-31    0.037067\n",
      "2022-04-29    0.012930\n",
      "Name: IBOXX Close Price data, dtype: float64\n"
     ]
    },
    {
     "data": {
      "text/plain": [
       "1"
      ]
     },
     "execution_count": 549,
     "metadata": {},
     "output_type": "execute_result"
    }
   ],
   "source": [
    "print(iboxx_returns.head())\n",
    "df2 = iboxx_returns\n",
    "df2.isnull().values.sum()\n"
   ]
  },
  {
   "cell_type": "code",
   "execution_count": 550,
   "id": "d87b53f7",
   "metadata": {},
   "outputs": [],
   "source": [
    "# After getting the data in for the 2 asset classes and calculitng the returns,check the data before concatinating the 2 data frames."
   ]
  },
  {
   "cell_type": "code",
   "execution_count": 551,
   "id": "81fb4b6d",
   "metadata": {},
   "outputs": [
    {
     "name": "stdout",
     "output_type": "stream",
     "text": [
      "            SX5E Close Price  IBOXX Close Price data\n",
      "Date                                                \n",
      "2022-08-31               NaN                     NaN\n",
      "2022-07-29          0.054261                0.044227\n",
      "2022-06-30         -0.068294               -0.045271\n",
      "2022-05-31          0.096777                0.037067\n",
      "2022-04-29          0.003602                0.012930\n"
     ]
    }
   ],
   "source": [
    "dates = pd.date_range(\"2019-09-30\",\"2022-07-29\",freq=\"1M\")\n",
    "df1 =euro_stoxx_returns\n",
    "df2=iboxx_returns\n",
    "Portfolios = pd.concat([df1,df2],axis=1)\n",
    "\n",
    "print(Portfolios.head())"
   ]
  },
  {
   "cell_type": "code",
   "execution_count": 552,
   "id": "c27e67b5",
   "metadata": {},
   "outputs": [
    {
     "name": "stdout",
     "output_type": "stream",
     "text": [
      "            EuroStoxx     IBoxx\n",
      "Date                           \n",
      "2022-08-31        NaN       NaN\n",
      "2022-07-29   0.054261  0.044227\n",
      "2022-06-30  -0.068294 -0.045271\n",
      "2022-05-31   0.096777  0.037067\n",
      "2022-04-29   0.003602  0.012930\n"
     ]
    }
   ],
   "source": [
    "Portfolios.columns=[\"EuroStoxx\",\"IBoxx\"]\n",
    "print(Portfolios.head())"
   ]
  },
  {
   "cell_type": "code",
   "execution_count": 553,
   "id": "2f493575",
   "metadata": {},
   "outputs": [
    {
     "data": {
      "image/png": "[encoded data removed]",
      "text/plain": [
       "<Figure size 1080x576 with 1 Axes>"
      ]
     },
     "metadata": {},
     "output_type": "display_data"
    }
   ],
   "source": [
    "plt.rcParams['figure.figsize'] = [15, 8]\n",
    "plt.plot(Portfolios, marker='o')\n",
    "plt.title('EuroStoxx Returns vs IBoxx Returns', fontsize=14)\n",
    "plt.xlabel('Date', fontsize=14)\n",
    "plt.ylabel('Returns', fontsize=14)\n",
    "plt.legend(['EuroStoxx Returns','IBoxx Returns'])\n",
    "plt.grid(True)\n",
    "plt.show()"
   ]
  },
  {
   "cell_type": "code",
   "execution_count": 554,
   "id": "84cc832e",
   "metadata": {},
   "outputs": [],
   "source": [
    "# Making a chart of the 2 assets returns allows us to look at how the move about form month to month.\n",
    "# From this its porrislbe to see how there are periods of volatiltiy when returns move by a large amount from 1 month to the next."
   ]
  },
  {
   "cell_type": "code",
   "execution_count": 555,
   "id": "c01d2b95",
   "metadata": {},
   "outputs": [
    {
     "name": "stdout",
     "output_type": "stream",
     "text": [
      "           EuroStoxx     IBoxx\n",
      "EuroStoxx   1.000000  0.665128\n",
      "IBoxx       0.665128  1.000000\n"
     ]
    }
   ],
   "source": [
    "corrMatrix = Portfolios.corr()\n",
    "print (corrMatrix)"
   ]
  },
  {
   "cell_type": "code",
   "execution_count": 556,
   "id": "dd121b3b",
   "metadata": {},
   "outputs": [],
   "source": [
    "# The chart above leads to look at the correlations between the 2 asset clases, finding they are correlated, but not by much, so could offer diversification benefits in a portfolio."
   ]
  },
  {
   "cell_type": "code",
   "execution_count": 557,
   "id": "b51c06d0",
   "metadata": {},
   "outputs": [
    {
     "name": "stdout",
     "output_type": "stream",
     "text": [
      "EuroStoxx    0.468986\n",
      "IBoxx        0.583612\n",
      "dtype: float64\n"
     ]
    }
   ],
   "source": [
    "Portfolios_mean_return = Portfolios.mean(axis=0)\n",
    "print(Portfolios_mean_returns.head())"
   ]
  },
  {
   "cell_type": "code",
   "execution_count": 558,
   "id": "d8f1e8c3",
   "metadata": {},
   "outputs": [
    {
     "name": "stdout",
     "output_type": "stream",
     "text": [
      "          0\n",
      "0  0.279085\n",
      "1  0.282722\n"
     ]
    }
   ],
   "source": [
    "Portfolios_std_dev = Portfolios.std()\n",
    "print(Portfolios_std_devs.head())"
   ]
  },
  {
   "cell_type": "code",
   "execution_count": 559,
   "id": "a095ee4d",
   "metadata": {},
   "outputs": [
    {
     "name": "stdout",
     "output_type": "stream",
     "text": [
      "    Portfolio mean retrun\n",
      "0                0.468986\n",
      "1                0.480449\n",
      "2                0.491911\n",
      "3                0.503374\n",
      "4                0.514836\n",
      "5                0.526299\n",
      "6                0.537762\n",
      "7                0.549224\n",
      "8                0.560687\n",
      "9                0.572149\n",
      "10               0.583612\n"
     ]
    }
   ],
   "source": [
    "Portfolios_mean_retruns = pd.DataFrame([0.468986,0.583612])\n",
    "weights=pd.DataFrame([[1,0],[0.9,0.1],[0.8,0.2],[0.7,0.3],[0.6,0.4],[0.5,0.5],[0.4,0.6],[0.3,0.7],[0.2,0.8],[0.1,0.9],[0,1]])\n",
    "final= weights.dot(Portfolios_mean_retruns)\n",
    "final.columns=['Portfolio mean retrun'] \n",
    "print(final)\n"
   ]
  },
  {
   "cell_type": "code",
   "execution_count": 560,
   "id": "1fe093df",
   "metadata": {},
   "outputs": [],
   "source": [
    "# Performing the mean and standard deviations will allow to calculate the Sharpe ratios for the portfolios later.\n",
    "# Making charts of each of these allows for a visual representation of the data on the portfolios. "
   ]
  },
  {
   "cell_type": "code",
   "execution_count": 561,
   "id": "dfbd00c6",
   "metadata": {},
   "outputs": [
    {
     "data": {
      "image/png": "[encoded data removed]",
      "text/plain": [
       "<Figure size 1080x576 with 1 Axes>"
      ]
     },
     "metadata": {},
     "output_type": "display_data"
    }
   ],
   "source": [
    "final.plot(kind=\"bar\",legend=False)\n",
    "plt.title(\"Mean Return of Portfolios\")\n",
    "plt.xlabel(\"Portfolio Number\")\n",
    "plt.ylabel(\"Returns in %\")\n",
    "plt.show()"
   ]
  },
  {
   "cell_type": "code",
   "execution_count": 562,
   "id": "bda71cf0",
   "metadata": {},
   "outputs": [
    {
     "name": "stdout",
     "output_type": "stream",
     "text": [
      "    Portfolio Standard Deviations\n",
      "0                        0.279085\n",
      "1                        0.279449\n",
      "2                        0.279812\n",
      "3                        0.280176\n",
      "4                        0.280540\n",
      "5                        0.280903\n",
      "6                        0.281267\n",
      "7                        0.281631\n",
      "8                        0.281995\n",
      "9                        0.282358\n",
      "10                       0.282722\n"
     ]
    }
   ],
   "source": [
    "Portfolios_std_devs = pd.DataFrame([0.279085,0.282722])\n",
    "weights=pd.DataFrame([[1,0,],[0.9,0.1],[0.8,0.2],[0.7,0.3],[0.6,0.4],[0.5,0.5],[0.4,0.6],[0.3,0.7],[0.2,0.8],[0.1,0.9],[0,1]])\n",
    "final2=weights.dot(Portfolios_std_devs)\n",
    "final2.columns=[\"Portfolio Standard Deviations\"]\n",
    "print(final2)"
   ]
  },
  {
   "cell_type": "code",
   "execution_count": 563,
   "id": "9934f8ff",
   "metadata": {},
   "outputs": [
    {
     "data": {
      "image/png": "[encoded data removed]",
      "text/plain": [
       "<Figure size 1080x576 with 1 Axes>"
      ]
     },
     "metadata": {},
     "output_type": "display_data"
    }
   ],
   "source": [
    "sns.set_style(\"dark\")\n",
    "final2.plot(kind='bar',color='green', legend=False)\n",
    "plt.title(\"Standard Deviations of Portfolios\")\n",
    "plt.xlabel(\"Portfolio Number\")\n",
    "plt.ylabel(\"Standard Deviation in %\")\n",
    "plt.show()"
   ]
  },
  {
   "cell_type": "code",
   "execution_count": 564,
   "id": "74a2d498",
   "metadata": {},
   "outputs": [
    {
     "name": "stdout",
     "output_type": "stream",
     "text": [
      "            BUBILL Close Rate\n",
      "Date                         \n",
      "2022-08-31              0.032\n",
      "2022-07-29             -0.060\n",
      "2022-06-30             -0.499\n",
      "2022-05-31             -0.639\n",
      "2022-04-29             -0.721\n"
     ]
    }
   ],
   "source": [
    "Bubill_3m_data = pd.read_csv(('bubill3mbond.csv'),parse_dates=['Date'], index_col='Date')\n",
    "print(Bubill_3m_data.head())"
   ]
  },
  {
   "cell_type": "code",
   "execution_count": 565,
   "id": "65d99638",
   "metadata": {},
   "outputs": [],
   "source": [
    "# Import the risk free rate, here using 3month German government bond.\n",
    "# Taking the mean for the sample period allows to use this with the portfolios. \n",
    "# After this take the risk free rate away from the portfolio returns to get the excess returns dataframe."
   ]
  },
  {
   "cell_type": "code",
   "execution_count": 566,
   "id": "5310c194",
   "metadata": {},
   "outputs": [
    {
     "name": "stdout",
     "output_type": "stream",
     "text": [
      "BUBILL Close Rate   -0.639278\n",
      "dtype: float64\n"
     ]
    }
   ],
   "source": [
    "Risk_free_rate = Bubill_3m_data.mean()\n",
    "print(Risk_free_rate)"
   ]
  },
  {
   "cell_type": "code",
   "execution_count": 567,
   "id": "8af324eb",
   "metadata": {},
   "outputs": [
    {
     "name": "stdout",
     "output_type": "stream",
     "text": [
      "    Excess Returns\n",
      "0         1.108264\n",
      "1         1.119726\n",
      "2         1.131189\n",
      "3         1.142652\n",
      "4         1.154114\n",
      "5         1.165577\n",
      "6         1.177039\n",
      "7         1.188502\n",
      "8         1.199965\n",
      "9         1.211427\n",
      "10        1.222890\n"
     ]
    }
   ],
   "source": [
    "Excess_returns = final.subtract(Risk_free_rate.loc['BUBILL Close Rate'])\n",
    "Excess_returns.columns=['Excess Returns']\n",
    "print(Excess_returns)"
   ]
  },
  {
   "cell_type": "code",
   "execution_count": 568,
   "id": "2886abf4",
   "metadata": {},
   "outputs": [],
   "source": [
    "# Below there was a problem with getting the excess returns dataframe to divide by the portfolios standard deviation df (final2).\n",
    "# Tried the conventional method that did not work, so had to do some research and found the solution below.\n",
    "\n",
    "#Sharpe_Ratios = Excess_returns.div(final2)\n",
    "#print(Sharpe_Ratios)"
   ]
  },
  {
   "cell_type": "code",
   "execution_count": 569,
   "id": "60700f05",
   "metadata": {},
   "outputs": [
    {
     "name": "stdout",
     "output_type": "stream",
     "text": [
      "0     3.971062\n",
      "1     4.006912\n",
      "2     4.042669\n",
      "3     4.078334\n",
      "4     4.113905\n",
      "5     4.149385\n",
      "6     4.184773\n",
      "7     4.220070\n",
      "8     4.255275\n",
      "9     4.290390\n",
      "10    4.325414\n",
      "dtype: float64\n"
     ]
    }
   ],
   "source": [
    "Sharpe_Ratios = Excess_returns['Excess Returns'] / final2['Portfolio Standard Deviations']\n",
    "print(Sharpe_Ratios)"
   ]
  },
  {
   "cell_type": "code",
   "execution_count": 570,
   "id": "60ff813f",
   "metadata": {},
   "outputs": [
    {
     "data": {
      "image/png": "[encoded data removed]",
      "text/plain": [
       "<Figure size 1080x576 with 1 Axes>"
      ]
     },
     "metadata": {},
     "output_type": "display_data"
    }
   ],
   "source": [
    "plt.plot(Sharpe_Ratios,color='orange', marker='o')\n",
    "plt.title('Sharpe Ratios for Portfolios', fontsize=14)\n",
    "plt.xlabel('Portfolio', fontsize=14)\n",
    "plt.ylabel('s', fontsize=14)\n",
    "plt.grid(True)\n",
    "plt.show()"
   ]
  }
 ],
 "metadata": {
  "kernelspec": {
   "display_name": "Python 3 (ipykernel)",
   "language": "python",
   "name": "python3"
  },
  "language_info": {
   "codemirror_mode": {
    "name": "ipython",
    "version": 3
   },
   "file_extension": ".py",
   "mimetype": "text/x-python",
   "name": "python",
   "nbconvert_exporter": "python",
   "pygments_lexer": "ipython3",
   "version": "3.9.12"
  }
 },
 "nbformat": 4,
 "nbformat_minor": 5
}
